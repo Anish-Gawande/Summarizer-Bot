{
 "cells": [
  {
   "cell_type": "code",
   "execution_count": 3,
   "id": "4927867b-993c-464f-a6fc-176aa5f9d55b",
   "metadata": {},
   "outputs": [
    {
     "name": "stderr",
     "output_type": "stream",
     "text": [
      "C:\\Users\\Anish\\AppData\\Local\\Packages\\PythonSoftwareFoundation.Python.3.11_qbz5n2kfra8p0\\LocalCache\\local-packages\\Python311\\site-packages\\tqdm\\auto.py:21: TqdmWarning: IProgress not found. Please update jupyter and ipywidgets. See https://ipywidgets.readthedocs.io/en/stable/user_install.html\n",
      "  from .autonotebook import tqdm as notebook_tqdm\n",
      "No model was supplied, defaulted to sshleifer/distilbart-cnn-12-6 and revision a4f8f3e (https://huggingface.co/sshleifer/distilbart-cnn-12-6).\n",
      "Using a pipeline without specifying a model name and revision in production is not recommended.\n",
      "Device set to use cpu\n"
     ]
    }
   ],
   "source": [
    "import os\n",
    "from txtai.pipeline import Summary\n",
    "from pytube import YouTube\n",
    "from youtube_transcript_api import YouTubeTranscriptApi\n",
    "from PyPDF2 import PdfReader\n",
    "\n",
    "# Initialize summarizer once\n",
    "summarizer = Summary()\n",
    "\n",
    "# Summarize plain text\n",
    "def summarize_text(text):\n",
    "    return summarizer(text)\n",
    "\n",
    "# Extract text from a PDF file\n",
    "def extract_text_from_pdf(file_path):\n",
    "    text = \"\"\n",
    "    with open(file_path, \"rb\") as f:\n",
    "        reader = PdfReader(f)\n",
    "        for page in reader.pages:\n",
    "            page_text = page.extract_text()\n",
    "            if page_text:\n",
    "                text += page_text\n",
    "    return text\n",
    "\n",
    "# Extract transcript from a YouTube video\n",
    "def extract_transcript(video_url, language=\"en\"):\n",
    "    video_id = None\n",
    "    if \"v=\" in video_url:\n",
    "        video_id = video_url.split(\"v=\")[1].split(\"&\")[0]\n",
    "    elif \"youtu.be\" in video_url:\n",
    "        video_id = video_url.split(\"/\")[-1]\n",
    "\n",
    "    try:\n",
    "        transcript = YouTubeTranscriptApi.get_transcript(video_id, languages=[language])\n",
    "    except:\n",
    "        transcript = YouTubeTranscriptApi.get_transcript(video_id)\n",
    "    \n",
    "    text = \" \".join([entry['text'] for entry in transcript])\n",
    "    return text\n"
   ]
  },
  {
   "cell_type": "code",
   "execution_count": null,
   "id": "a4f27f1f-831e-4095-bfdd-d7be5a4ff688",
   "metadata": {},
   "outputs": [],
   "source": []
  }
 ],
 "metadata": {
  "kernelspec": {
   "display_name": "Python 3 (ipykernel)",
   "language": "python",
   "name": "python3"
  },
  "language_info": {
   "codemirror_mode": {
    "name": "ipython",
    "version": 3
   },
   "file_extension": ".py",
   "mimetype": "text/x-python",
   "name": "python",
   "nbconvert_exporter": "python",
   "pygments_lexer": "ipython3",
   "version": "3.11.9"
  }
 },
 "nbformat": 4,
 "nbformat_minor": 5
}
